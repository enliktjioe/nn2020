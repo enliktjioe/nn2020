{
 "cells": [
  {
   "cell_type": "markdown",
   "metadata": {},
   "source": [
    "# Homework 3\n",
    "   \n",
    "The homework consists of two parts: theoretical part (5 pts) and coding part (25 pts).\n",
    " - All theoretical questions must be answered in your own words, do not copy-paste text from the internet. Points can be deducted for terrible formatting or incomprehensible English.\n",
    " - Code must be commented. If you use code you found online, you have to add the link to the source you used. There is no penalty for using outside sources as long as you convince us you understand the code.\n",
    " - If you have hard time writing equations in markdown/latex in this notebook, write them on paper, take a good quality photo and add that photo to the notebook (make sure the file is incuded in your upload)\n",
    "\n",
    "**You can earn up to 5 bonus points by tuning the hyperparameters and reaching test accuracies above 52%**\n",
    "\n",
    "*Once completed zip the entire directory containing this exercise and upload it to https://courses.cs.ut.ee/2020/nn/spring/Main/Practices.*\n",
    "   \n",
    "For background reading see http://cs231n.github.io/optimization-2/  \n",
    "http://vision.stanford.edu/teaching/cs231n/handouts/derivatives.pdf  \n",
    "https://web.stanford.edu/class/cs224n/readings/gradient-notes.pdf\n",
    "\n"
   ]
  },
  {
   "cell_type": "markdown",
   "metadata": {},
   "source": [
    "If you did this homework together with course mates, please write here their names (answers still have to be your own!)."
   ]
  },
  {
   "cell_type": "markdown",
   "metadata": {},
   "source": [
    "**Name(s):** *fill this in if applicable*  \n",
    "<br><br>"
   ]
  },
  {
   "cell_type": "markdown",
   "metadata": {},
   "source": [
    "\n",
    "## Part 1: Lecture Materials (5 pts)\n",
    "\n",
    "These theoretical questions are about the material covered in the lecture about \"Back-propagation\"\n",
    "### Back-propagation\n",
    "\n",
    "**Task 1.1: Derivatives of scalars, vectors and matrices (1pt)**  \n",
    "In this task we ask you what are the dimensions of the gradient vector/matrix when taking the derivative of the object noted in the topmost row with respect to the object given in the first column. You can find help from http://cs231n.stanford.edu/handouts/derivatives.pdf \n",
    "\n",
    "\n",
    "Please fill in the table below:  \n",
    "\n",
    "| $\\frac{\\partial}{\\partial}$ | scalar | vector $\\in \\mathbb{R}^n$ |  \n",
    "| ------ | ------ | ------ |\n",
    "| scalar | ...  | ... |    \n",
    "| vector $\\in \\mathbb{R}^k$ | ...\t| ... |  \n"
   ]
  },
  {
   "cell_type": "markdown",
   "metadata": {},
   "source": [
    "**Task 1.2: General rule of backprop (1pt)**  \n",
    "You are given a feed-forward network with very many hidden layers. For the simplicity of this exercise, conisder that there is no non-linearity (no activation function) applied in the nodes. We note as $W_{i}$ the weight matrix that is between layers i and i+1. We note as $h_i$ the hidden node activations in layer i.\n",
    "\n",
    "Considering that you already know the derivatives with respect to the hidden node activations in layer N+1, $\\frac{\\partial L}{\\partial h_{N+1}}$, find the the following derivatives:  \n",
    "$\\frac{\\partial L}{\\partial W_N}=$   \n",
    "$\\frac{\\partial L}{\\partial h_N}=$   \n",
    "$\\frac{\\partial L}{\\partial W_{N-1}}=$     \n",
    "$\\frac{\\partial L}{\\partial h_{N-1}}=$   \n",
    "\n",
    "Express the derivatives in function of the known derivative $\\frac{\\partial L}{\\partial h_{N+1}}$, weight matrixes $W_i$ and hidden node activations $h_i$."
   ]
  },
  {
   "cell_type": "markdown",
   "metadata": {},
   "source": [
    "**Your Answer**: \n",
    "\n",
    "$\\frac{\\partial L}{\\partial W_N}= \\frac{\\partial L}{\\partial h_{N+1}} h_{i}$   \n",
    "$\\frac{\\partial L}{\\partial h_N}= \\frac{\\partial L}{\\partial h_{N+1}} W_{i}$   \n",
    "$\\frac{\\partial L}{\\partial W_{N-1}}= \\frac{\\partial L}{\\partial h_{N+1}} W_{i}h_{i-1}$    \n",
    "$\\frac{\\partial L}{\\partial h_{N-1}}= \\frac{\\partial L}{\\partial h_{N+1}} W_{i}W_{i-1}$   "
   ]
  },
  {
   "cell_type": "markdown",
   "metadata": {},
   "source": [
    "**Task 1.3: Complexity task 1 (1pt)**  \n",
    "\n",
    "How many multiplications and how many additions/subtractions does it take to calculate:   \n",
    "- the product of a vector $v \\in \\mathbb{R}^n$ and a matrix $M \\in \\mathbb{R}^{n \\times m}$ (i.e. complexity of doing $v^T  M$)?"
   ]
  },
  {
   "cell_type": "markdown",
   "metadata": {},
   "source": [
    "**Your Answer**: *fill this in.*"
   ]
  },
  {
   "cell_type": "markdown",
   "metadata": {},
   "source": [
    "**Task 1.4: Complexity task 2 (2pt)**  \n",
    "\n",
    "Imagine that you have a neural network with one hidden layer with 100 nodes (a \"two-layer network\", because it has two weight matrices), and you are using RELU activation function at the nodes. The inputs to the network are RGB images of size 32x32x3. The output is 10 probability values (obtained by passing the results through Softmax function). \n",
    "\n",
    "How many scalar operations (additions, subtractions, multiplications, divisions, exponentiations, logarithms and comparisons) does it take to:\n",
    "   - perform a forward pass on one data point (to calculate the cross-entropy loss)"
   ]
  },
  {
   "cell_type": "markdown",
   "metadata": {},
   "source": [
    "**Your Answer**:  *fill this in.*"
   ]
  },
  {
   "cell_type": "markdown",
   "metadata": {},
   "source": [
    "## Part 2: Practical Tasks (25 pts)\n",
    "### Applied Theory\n",
    "\n",
    "In this exercise we have a neural network with one hidden layer. This time we derive gradients slightly differently:\n",
    "1. we use batch of samples instead of one sample,\n",
    "2. **we use matrix calculus for gradients,**\n",
    "3. we add L2 regularization to the loss.\n",
    "\n",
    "![alt text][logo]\n",
    "\n",
    "[logo]: http://cs231n.github.io/assets/nn1/neural_net.jpeg \"Logo Title Text 2\"\n",
    "\n",
    "\n",
    "Notation:\n",
    " * $\\mathbf{X}$ is $N \\times D$ input matrix, where $N$ is number of samples in batch and $D$ is number of features.\n",
    " * $\\mathbf{Y}$ is $N \\times C$ one-hot coded target matrix, where $N$ is number of samples in batch and $C$ is number of classes.\n",
    " * $\\mathbf{c}$ is $N$-dimensional vector of correct classes for all samples, $\\mathbf{c}_i \\in \\{1, \\ldots, C\\}$.\n",
    " * $\\mathbf{W}^{(1)}$ is $D \\times M$ weight matrix of the first layer, where $D$ is the number of features and $M$ is number of hidden nodes.\n",
    " * $\\mathbf{W}^{(2)}$ is $M \\times C$ weight matrix of the second layer, where $M$ is the number of hidden nodes and $C$ is the number of classes.\n",
    " * $\\mathbf{b}^{(1)}$ is bias vector of the first layer with dimension of $1 \\times M$.\n",
    " * $\\mathbf{b}^{(2)}$ is bias vector of the second layer with dimension of $1 \\times C$.\n",
    " * $1_N$ is a column vector of ones of length N with dimension $N \\times 1$\n",
    " * $\\text{ReLU}(x) = \\max(x, 0)$ is rectified linear unit activation function.\n",
    " * $\\mathbf{P} = \\text{softmax}(\\mathbf{A})$ converts activations into probabilities row by row $\\mathbf{P}_{ij} = \\frac{e^ {\\mathbf{A}_{ij}}}{\\sum_k e^{\\mathbf{A}_{ik}}}$.\n"
   ]
  },
  {
   "cell_type": "markdown",
   "metadata": {},
   "source": [
    "\n",
    "**Feed-forward pass:**\n",
    "$$\n",
    "\\begin{align*}\n",
    "\\mathbf{A}^{(1)} &= \\mathbf{X} \\mathbf{W}^{(1)} + 1_N \\mathbf{b}^{(1)}   &(N\\times M)\n",
    "\\\\\n",
    "\\mathbf{H}^{(1)} &= \\text{ReLU}(\\mathbf{A}^{(1)}) &(N\\times M)\n",
    "\\\\\n",
    "\\mathbf{A}^{(2)} &= \\mathbf{H}^{(1)} \\mathbf{W}^{(2)} + 1_N \\mathbf{b}^{(2)} &(N\\times C)\n",
    "\\\\\n",
    "\\mathbf{P} &= \\text{softmax}(\\mathbf{A}^{(2)}) &(N\\times C)\n",
    "\\\\\n",
    "L_{CE} &= -\\frac{1}{N} \\sum_{i=1}^{N} \\mathbf{Y}_{i\\cdot} \\odot \\log \\mathbf{P}_{i\\cdot} = \n",
    "-\\frac{1}{N} \\sum_{i=1}^{N} \\log \\mathbf{P}_{i\\mathbf{c}_i}   &(\\text{scalar})\n",
    "\\end{align*}\n",
    "$$\n",
    "\n",
    "Here $AB$ is matrix multiplication and $A\\odot B$ is element-wise multiplication.  \n",
    "$\\frac{1}{N}$ in the loss function produces mean instance loss, which is good because then loss value does not depend on batch size. If we had used sum, both loss value and gradients would have different magnitude for different batch sizes and we would need to adapt learning rate for each batch size."
   ]
  },
  {
   "cell_type": "markdown",
   "metadata": {},
   "source": [
    "<br><br>\n",
    "**Backward pass:**  \n",
    "Derivatives of matrix multiplication work very similarly to the scalar case. However, as the order of elements in product matters (AB $\\neq$ BA), pay attention to transposes and also on which side of the overall expression the derviative ends up. Suppose  \n",
    "  $$ L = f(Y),\\qquad Y = XW.$$\n",
    "Then\n",
    "\\begin{align*}\n",
    "\\frac{\\partial L}{\\partial X} &=  \\frac{\\partial L}{\\partial Y} \\frac{\\partial Y}{\\partial X}= \\frac{\\partial L}{\\partial Y} \\frac{\\partial XW}{\\partial X} =\\frac{\\partial L}{\\partial Y} W^T\\\\\n",
    "\\frac{\\partial L}{\\partial W} &= \\frac{\\partial L}{\\partial Y} \\frac{\\partial Y}{\\partial W}= \\frac{\\partial L}{\\partial Y} \\frac{\\partial XW}{\\partial W} = X^T  \\frac{\\partial L}{\\partial Y}.\n",
    "\\end{align*}\n",
    "Notice that the multiplication with transposed matrix is from different sides in these two cases.\n",
    "\n",
    "Backward pass for $\\mathbf{W}^{(1)}$ using chain rule:\n",
    "\\begin{align*}\n",
    "    \\frac{\\partial L_{CE}}{\\partial\\mathbf{W}^{(1)}} &= \\frac{\\partial L_{CE}}{\\partial\\mathbf{A}^{(1)}}\\frac{\\partial \\mathbf{A}^{(1)}}{\\partial\\mathbf{W}^{(1)}} & \\text{(chain rule)}\\\\\n",
    "    &= X^T\\frac{\\partial L_{CE}}{\\partial\\mathbf{A}^{(1)}} & \\text{(previous formula)}\\\\\n",
    "    &= X^T\\frac{\\partial L_{CE}}{\\partial\\mathbf{H}^{(1)}}\\frac{\\partial\\mathbf{H}^{(1)}}{\\partial\\mathbf{A}^{(1)}} & \\text{(chain rule)}\\\\\n",
    "    &= X^T\\left(\\frac{\\partial L_{CE}}{\\partial\\mathbf{H}^{(1)}}\\odot(\\mathbf{A}^{(1)}>0)\\right)\\\\\n",
    "    &= X^T\\left(\\frac{\\partial L_{CE}}{\\partial\\mathbf{A}^{(2)}}\\frac{\\partial\\mathbf{A}^{(2)}}{\\partial\\mathbf{H}^{(1)}}\\odot(\\mathbf{A}^{(1)}>0)\\right)&\\text{(chain rule)}\\\\\n",
    "    &= X^T\\left(\\left(\\frac{\\partial L_{CE}}{\\partial\\mathbf{A}^{(2)}}(\\mathbf{W}^{(2)})^T\\right)\\odot(\\mathbf{A}^{(1)}>0)\\right)&\\text{(previous formula)}\\\\\n",
    "    &= \\frac{1}{N}X^T\\left(\\left((P-Y)(\\mathbf{W}^{(2)})^T\\right)\\odot(\\mathbf{A}^{(1)}>0)\\right)&\\text{(from previous practice)}\n",
    "\\end{align*}\n",
    "Here $(\\mathbf{A}^{(1)}>0)$ denotes a matrix whose value at row $i$ and column $j$ is one, if the corresponding value in matrix $\\mathbf{A}$ is greater than 0, and 0 otherwise.\n",
    "\n",
    "\n",
    "\n",
    "### Task 2.1 (4pts)\n",
    "Write down the partial derivatives of classification loss function with respect to other weights and biases. Verify that the dimensions match!\n",
    "\n",
    "$$\n",
    "\\begin{align*}\n",
    "\\frac{\\partial L_{CE}}{\\partial\\mathbf{W}^{(2)}} &= \\ldots \\qquad \\qquad \\qquad \\qquad (M \\times C)\n",
    "\\\\\n",
    "\\frac{\\partial L_{CE}}{\\partial\\mathbf{b}^{(1)}} &= \\ldots \\qquad \\qquad \\qquad \\qquad (M \\times 1)\n",
    "\\\\\n",
    "\\frac{\\partial L_{CE}}{\\partial\\mathbf{b}^{(2)}} &= \\ldots \\qquad \\qquad \\qquad \\qquad (C \\times 1)\n",
    "\\end{align*}\n",
    "$$\n",
    "\n"
   ]
  },
  {
   "cell_type": "markdown",
   "metadata": {},
   "source": [
    "## L2 regularization\n",
    "\n",
    "L2 regularization drives the weights to be small.\n",
    "$$\n",
    "L_r = \\sum_{ij} (\\mathbf{W}^{(1)}_{ij})^2 + \\sum_{ij} (\\mathbf{W}^{(2)}_{ij})^2\n",
    "$$\n",
    "\n",
    "In the final loss the classification loss and regularization loss are added together.\n",
    "$$\n",
    "L = L_c + \\lambda L_r\n",
    "$$\n",
    "\n",
    "The strenght of regularization is determined by regularization coefficient $\\lambda$.\n",
    "\n",
    "### Task 2.2 (2pts):\n",
    "\n",
    "Write down the partial derivatives of regularization loss with respect to weights:\n",
    "\n",
    "$$\n",
    "\\begin{align*}\n",
    "\\frac{\\partial L_r}{\\partial\\mathbf{W}^{(1)}} &= \\ldots \\qquad \\qquad \\qquad \\qquad (D \\times M)\n",
    "\\\\\n",
    "\\frac{\\partial L_r}{\\partial\\mathbf{W}^{(2)}} &= \\ldots \\qquad \\qquad \\qquad \\qquad (M \\times C)\n",
    "\\end{align*}\n",
    "$$"
   ]
  },
  {
   "cell_type": "code",
   "execution_count": 1,
   "metadata": {},
   "outputs": [],
   "source": [
    "# A bit of setup\n",
    "from __future__ import print_function\n",
    "\n",
    "import numpy as np\n",
    "import matplotlib.pyplot as plt\n",
    "\n",
    "from neural_net import TwoLayerNet\n",
    "\n",
    "%matplotlib inline\n",
    "plt.rcParams['figure.figsize'] = (10.0, 8.0) # set default size of plots\n",
    "plt.rcParams['image.interpolation'] = 'nearest'\n",
    "plt.rcParams['image.cmap'] = 'gray'\n",
    "\n",
    "# for auto-reloading external modules\n",
    "# see http://stackoverflow.com/questions/1907993/autoreload-of-modules-in-ipython\n",
    "%load_ext autoreload\n",
    "%autoreload 2\n",
    "\n",
    "def rel_error(x, y):\n",
    "    \"\"\" returns relative error \"\"\"\n",
    "    return np.max(np.abs(x - y) / (np.maximum(1e-8, np.abs(x) + np.abs(y))))"
   ]
  },
  {
   "cell_type": "markdown",
   "metadata": {},
   "source": [
    "We will use the class `TwoLayerNet` in the file `neural_net.py` to represent instances of our network. The network parameters are stored in the instance variable `self.params` where keys are string parameter names and values are numpy arrays. Below, we initialize toy data and a toy model that we will use to develop your implementation."
   ]
  },
  {
   "cell_type": "code",
   "execution_count": 3,
   "metadata": {},
   "outputs": [],
   "source": [
    "# Create a small net and some toy data to check your implementations.\n",
    "# Note that we set the random seed for repeatable experiments.\n",
    "\n",
    "input_size = 4\n",
    "hidden_size = 10\n",
    "num_classes = 3\n",
    "num_inputs = 5\n",
    "\n",
    "def init_toy_model():\n",
    "    np.random.seed(0)\n",
    "    return TwoLayerNet(input_size, hidden_size, num_classes, std=1e-1)\n",
    "\n",
    "def init_toy_data():\n",
    "    np.random.seed(1)\n",
    "    X = 10 * np.random.randn(num_inputs, input_size)\n",
    "    y = np.array([0, 1, 2, 2, 1])\n",
    "    return X, y\n",
    "\n",
    "net = init_toy_model()\n",
    "X, y = init_toy_data()"
   ]
  },
  {
   "cell_type": "markdown",
   "metadata": {},
   "source": [
    "# Forward pass: compute scores\n",
    "\n",
    "### Task 2.3 (2pts)\n",
    "Open the file `neural_net.py` and look at the method `TwoLayerNet.loss`. This function is very similar to the loss functions you have written for the Softmax exercise: It takes the data and weights and computes the class scores, the loss, and the gradients on the parameters. \n",
    "\n",
    "Implement the first part of the forward pass which uses the weights and biases to compute the scores (activations in last layer, before softmax) for all inputs."
   ]
  },
  {
   "cell_type": "code",
   "execution_count": null,
   "metadata": {},
   "outputs": [],
   "source": [
    "scores = net.loss(X)\n",
    "print('Your scores:')\n",
    "print(scores)\n",
    "print()\n",
    "print('correct scores:')\n",
    "correct_scores = np.asarray([\n",
    "  [-0.81233741, -1.27654624, -0.70335995],\n",
    "  [-0.17129677, -1.18803311, -0.47310444],\n",
    "  [-0.51590475, -1.01354314, -0.8504215 ],\n",
    "  [-0.15419291, -0.48629638, -0.52901952],\n",
    "  [-0.00618733, -0.12435261, -0.15226949]])\n",
    "print(correct_scores)\n",
    "print()\n",
    "\n",
    "# The difference should be very small. We get < 1e-7\n",
    "print('Difference between your scores and correct scores:')\n",
    "print(np.sum(np.abs(scores - correct_scores)))"
   ]
  },
  {
   "cell_type": "markdown",
   "metadata": {},
   "source": [
    "# Forward pass: compute loss\n",
    "### Task 2.4 (2pts)\n",
    "In the same function, implement the second part that computes the Cross Entropy loss and regularizaion loss."
   ]
  },
  {
   "cell_type": "code",
   "execution_count": null,
   "metadata": {},
   "outputs": [],
   "source": [
    "loss, _ = net.loss(X, y, reg=0.05)\n",
    "correct_loss = 1.30378789133\n",
    "\n",
    "# should be very small, we get < 1e-12\n",
    "print('Difference between your loss and correct loss:')\n",
    "print(np.sum(np.abs(loss - correct_loss)))"
   ]
  },
  {
   "cell_type": "markdown",
   "metadata": {},
   "source": [
    "# Backward pass\n",
    "### Task 2.5 (6pts)\n",
    "Implement the rest of the function. This will compute the gradient of the loss with respect to the variables `W1`, `b1`, `W2`, and `b2`. Now that you (hopefully!) have a correctly implemented forward pass, you can debug your backward pass using a numeric gradient check:"
   ]
  },
  {
   "cell_type": "code",
   "execution_count": null,
   "metadata": {},
   "outputs": [],
   "source": [
    "from gradient_check import eval_numerical_gradient\n",
    "\n",
    "# Use numeric gradient checking to check your implementation of the backward pass.\n",
    "# If your implementation is correct, the difference between the numeric and\n",
    "# analytic gradients should be less than 1e-8 for each of W1, W2, b1, and b2.\n",
    "\n",
    "loss, grads = net.loss(X, y, reg=0.05)\n",
    "\n",
    "# these should all be less than 1e-8 or so\n",
    "for param_name in grads:\n",
    "    f = lambda W: net.loss(X, y, reg=0.05)[0]\n",
    "    param_grad_num = eval_numerical_gradient(f, net.params[param_name], verbose=False)\n",
    "    print('%s max relative error: %e' % (param_name, rel_error(param_grad_num, grads[param_name])))"
   ]
  },
  {
   "cell_type": "markdown",
   "metadata": {},
   "source": [
    "# Train the network\n",
    "### Task 2.6 (3pts)\n",
    "To train the network we will use stochastic gradient descent (SGD), similar to the Softmax classifier. Look at the function `TwoLayerNet.train` and fill in the missing sections to implement the training procedure. This should be very similar to the training procedure you used for the Softmax classifier. You will also have to implement `TwoLayerNet.predict`, as the training process periodically performs prediction to keep track of accuracy over time while the network trains.\n",
    "\n",
    "Once you have implemented the method, run the code below to train a two-layer network on toy data. You should achieve a training loss less than 0.2."
   ]
  },
  {
   "cell_type": "code",
   "execution_count": null,
   "metadata": {},
   "outputs": [],
   "source": [
    "net = init_toy_model()\n",
    "stats = net.train(X, y, X, y,\n",
    "            learning_rate=1e-1, reg=5e-6,\n",
    "            num_iters=100, verbose=False)\n",
    "\n",
    "print('Final training loss: ', stats['loss_history'][-1])\n",
    "\n",
    "# plot the loss history\n",
    "plt.plot(stats['loss_history'])\n",
    "plt.xlabel('iteration')\n",
    "plt.ylabel('training loss')\n",
    "plt.title('Training Loss history')\n",
    "plt.show()"
   ]
  },
  {
   "cell_type": "markdown",
   "metadata": {},
   "source": [
    "# Load the data\n",
    "Now that you have implemented a two-layer network that passes gradient checks and works on toy data, it's time to load up our favorite CIFAR-10 data so we can use it to train a classifier on a real dataset."
   ]
  },
  {
   "cell_type": "code",
   "execution_count": null,
   "metadata": {},
   "outputs": [],
   "source": [
    "from data_utils import load_CIFAR10\n",
    "\n",
    "def get_CIFAR10_data(num_training=49000, num_validation=1000, num_test=1000):\n",
    "    \"\"\"\n",
    "    Load the CIFAR-10 dataset from disk and perform preprocessing to prepare\n",
    "    it for the two-layer neural net classifier. These are the same steps as\n",
    "    we used for the SVM, but condensed to a single function.  \n",
    "    \"\"\"\n",
    "    # Load the raw CIFAR-10 data\n",
    "    cifar10_dir = '../datasets/cifar-10-batches-py'\n",
    "    X_train, y_train, X_test, y_test = load_CIFAR10(cifar10_dir)\n",
    "        \n",
    "    # Subsample the data\n",
    "    mask = list(range(num_training, num_training + num_validation))\n",
    "    X_val = X_train[mask]\n",
    "    y_val = y_train[mask]\n",
    "    mask = list(range(num_training))\n",
    "    X_train = X_train[mask]\n",
    "    y_train = y_train[mask]\n",
    "    mask = list(range(num_test))\n",
    "    X_test = X_test[mask]\n",
    "    y_test = y_test[mask]\n",
    "\n",
    "    # Normalize the data: subtract the mean image\n",
    "    mean_image = np.mean(X_train, axis=0)\n",
    "    X_train -= mean_image\n",
    "    X_val -= mean_image\n",
    "    X_test -= mean_image\n",
    "\n",
    "    # Reshape data to rows\n",
    "    X_train = X_train.reshape(num_training, -1)\n",
    "    X_val = X_val.reshape(num_validation, -1)\n",
    "    X_test = X_test.reshape(num_test, -1)\n",
    "\n",
    "    return X_train, y_train, X_val, y_val, X_test, y_test\n",
    "\n",
    "\n",
    "# Invoke the above function to get our data.\n",
    "X_train, y_train, X_val, y_val, X_test, y_test = get_CIFAR10_data()\n",
    "print('Train data shape: ', X_train.shape)\n",
    "print('Train labels shape: ', y_train.shape)\n",
    "print('Validation data shape: ', X_val.shape)\n",
    "print('Validation labels shape: ', y_val.shape)\n",
    "print('Test data shape: ', X_test.shape)\n",
    "print('Test labels shape: ', y_test.shape)"
   ]
  },
  {
   "cell_type": "markdown",
   "metadata": {},
   "source": [
    "# Train a network\n",
    "To train our network we will use SGD. In addition, we will adjust the learning rate with an exponential learning rate schedule as optimization proceeds; after each epoch, we will reduce the learning rate by multiplying it by a number smaller than one called \"decay rate\"."
   ]
  },
  {
   "cell_type": "code",
   "execution_count": null,
   "metadata": {},
   "outputs": [],
   "source": [
    "input_size = 32 * 32 * 3\n",
    "hidden_size = 50\n",
    "num_classes = 10\n",
    "net = TwoLayerNet(input_size, hidden_size, num_classes)\n",
    "\n",
    "# Train the network\n",
    "stats = net.train(X_train, y_train, X_val, y_val,\n",
    "            num_iters=1000, batch_size=200,\n",
    "            learning_rate=1e-4, learning_rate_decay=0.95,\n",
    "            reg=0.25, verbose=True)\n",
    "\n",
    "# Predict on the validation set\n",
    "val_acc = (net.predict(X_val) == y_val).mean()\n",
    "print('Validation accuracy: ', val_acc)\n",
    "\n"
   ]
  },
  {
   "cell_type": "markdown",
   "metadata": {},
   "source": [
    "# Debug the training\n",
    "With the default parameters we provided above, you should get a validation accuracy of about 0.29 on the validation set. This isn't very good.\n",
    "\n",
    "One strategy for getting insight into what's wrong is to plot the loss function and the accuracies on the training and validation sets during optimization.\n",
    "\n",
    "Another strategy is to visualize the weights that were learned in the first layer of the network. In most neural networks trained on visual data, the first layer weights typically show some visible structure when visualized."
   ]
  },
  {
   "cell_type": "code",
   "execution_count": null,
   "metadata": {},
   "outputs": [],
   "source": [
    "# Plot the loss function and train / validation accuracies\n",
    "plt.subplot(2, 1, 1)\n",
    "plt.plot(stats['loss_history'])\n",
    "plt.title('Loss history')\n",
    "plt.xlabel('Iteration')\n",
    "plt.ylabel('Loss')\n",
    "\n",
    "plt.subplot(2, 1, 2)\n",
    "plt.plot(stats['train_acc_history'], label='train')\n",
    "plt.plot(stats['val_acc_history'], label='val')\n",
    "plt.title('Classification accuracy history')\n",
    "plt.xlabel('Epoch')\n",
    "plt.ylabel('Clasification accuracy')\n",
    "plt.show()"
   ]
  },
  {
   "cell_type": "code",
   "execution_count": null,
   "metadata": {},
   "outputs": [],
   "source": [
    "from vis_utils import visualize_grid\n",
    "\n",
    "# Visualize the weights of the network\n",
    "\n",
    "def show_net_weights(net):\n",
    "    W1 = net.params['W1']\n",
    "    W1 = W1.reshape(32, 32, 3, -1).transpose(3, 0, 1, 2)\n",
    "    plt.imshow(visualize_grid(W1, padding=3).astype('uint8'))\n",
    "    plt.gca().axis('off')\n",
    "    plt.show()\n",
    "\n",
    "show_net_weights(net)"
   ]
  },
  {
   "cell_type": "markdown",
   "metadata": {},
   "source": [
    "# Tune your hyperparameters\n",
    "\n",
    "**What's wrong?**. Looking at the visualizations above, we see that the loss is decreasing more or less linearly, which seems to suggest that the learning rate may be too low. Moreover, there is no gap between the training and validation accuracy, suggesting that the model we used has low capacity, and that we should increase its size. On the other hand, with a very large model we would expect to see more overfitting, which would manifest itself as a very large gap between the training and validation accuracy.\n",
    "\n",
    "**Tuning**. Tuning the hyperparameters and developing intuition for how they affect the final performance is a large part of using Neural Networks, so we want you to get a lot of practice. Below, you should experiment with different values of the various hyperparameters, including hidden layer size, learning rate, numer of training epochs, and regularization strength. You might also consider tuning the learning rate decay, but you should be able to get good performance using the default value.\n",
    "\n",
    "**Approximate results**. You should be aim to achieve a classification accuracy of greater than 48% on the validation set. Our best network gets over 52% on the validation set.\n",
    "\n",
    "### Task 2.7 (4pts)\n",
    "**Experiment**: You goal in this exercise is to get as good of a result on CIFAR-10 as you can, with a fully-connected Neural Network. For every 1% above 52% on the Test set we will award you with one extra bonus point. Feel free implement your own techniques (e.g. PCA to reduce dimensionality, or adding dropout, or adding features to the solver, etc.)."
   ]
  },
  {
   "cell_type": "code",
   "execution_count": null,
   "metadata": {},
   "outputs": [],
   "source": [
    "best_net = None # store the best model into this \n",
    "\n",
    "#################################################################################\n",
    "# TODO: Tune hyperparameters using the validation set. Store your best trained  #\n",
    "# model in best_net.                                                            #\n",
    "#                                                                               #\n",
    "# To help debug your network, it may help to use visualizations similar to the  #\n",
    "# ones we used above; these visualizations will have significant qualitative    #\n",
    "# differences from the ones we saw above for the poorly tuned network.          #\n",
    "#                                                                               #\n",
    "# Tweaking hyperparameters by hand can be fun, but you might find it useful to  #\n",
    "# write code to sweep through possible combinations of hyperparameters          #\n",
    "# automatically like we did on the previous exercises.                          #\n",
    "#################################################################################\n",
    "pass\n",
    "#################################################################################\n",
    "#                               END OF YOUR CODE                                #\n",
    "#################################################################################"
   ]
  },
  {
   "cell_type": "markdown",
   "metadata": {},
   "source": [
    "### Task 2.8 (2pts):\n",
    "Describe how different hyperparameters seem to affect the result and what might be their interactions. Which are the most important and which are less important? Be thorough and mention all hyperparameters you tried. Describe what you see, not general case from textbook.\n",
    "\n",
    "**Your answer:** *fill this in*"
   ]
  },
  {
   "cell_type": "code",
   "execution_count": null,
   "metadata": {},
   "outputs": [],
   "source": [
    "# visualize the weights of the best network\n",
    "show_net_weights(best_net)"
   ]
  },
  {
   "cell_type": "markdown",
   "metadata": {},
   "source": [
    "# Run on the test set\n",
    "When you are done experimenting, you should evaluate your final trained network on the test set; you should get above 48%.\n",
    "\n",
    "### Bonus Task (up to 5 pts):\n",
    "**We will give you extra bonus point for every 1% of accuracy above 52%. (up to a maximum 5 bonus points)**"
   ]
  },
  {
   "cell_type": "code",
   "execution_count": null,
   "metadata": {},
   "outputs": [],
   "source": [
    "test_acc = (best_net.predict(X_test) == y_test).mean()\n",
    "print('Test accuracy: ', test_acc)"
   ]
  },
  {
   "cell_type": "code",
   "execution_count": null,
   "metadata": {
    "collapsed": true
   },
   "outputs": [],
   "source": []
  }
 ],
 "metadata": {
  "kernelspec": {
   "display_name": "Python 3",
   "language": "python",
   "name": "python3"
  },
  "language_info": {
   "codemirror_mode": {
    "name": "ipython",
    "version": 3
   },
   "file_extension": ".py",
   "mimetype": "text/x-python",
   "name": "python",
   "nbconvert_exporter": "python",
   "pygments_lexer": "ipython3",
   "version": "3.6.7"
  }
 },
 "nbformat": 4,
 "nbformat_minor": 1
}
